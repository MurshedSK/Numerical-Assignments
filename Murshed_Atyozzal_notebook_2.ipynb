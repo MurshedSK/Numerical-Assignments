{
  "cells": [
    {
      "cell_type": "markdown",
      "metadata": {
        "id": "rm95RbVYz3Se"
      },
      "source": [
        "- Student 1 Name: Murshed SK\n",
        "- Student 2 Name: Atyozzal Konwar\n",
        "\n",
        "change the name of this notebook to  `name_1_name_2_notebook_??.ipynb` with *no spaces, no accents and no strange characters!* and where `??` stands for the number of the notebook you are working on."
      ]
    },
    {
      "cell_type": "markdown",
      "metadata": {
        "id": "q5h02qYwz3So"
      },
      "source": [
        "# PPM Numerical Methods -- Numerical Methods for Physics"
      ]
    },
    {
      "cell_type": "markdown",
      "metadata": {
        "id": "UHRuhYn0z3Sp"
      },
      "source": [
        "# Numerical methods: Root finding"
      ]
    },
    {
      "cell_type": "markdown",
      "metadata": {
        "id": "pZPUSzqQz3Sq"
      },
      "source": [
        "# Root finding"
      ]
    },
    {
      "cell_type": "markdown",
      "metadata": {
        "id": "lmuXFrC_z3Sr"
      },
      "source": [
        "## Bisection method"
      ]
    },
    {
      "cell_type": "markdown",
      "metadata": {
        "id": "w09C0fLlz3Sv"
      },
      "source": [
        "Use the bisection method to find the root of the function\n",
        "$$ f(x) = \\frac{1}{2} - e^{-x}$$\n",
        "think carefully how to estimate the error to end the calculation."
      ]
    },
    {
      "cell_type": "code",
      "execution_count": null,
      "metadata": {
        "id": "Vcz6DF4bz3Sw"
      },
      "outputs": [],
      "source": [
        "# Import necesary libraries for this notebook:\n",
        "import numpy as np\n",
        "import matplotlib.pyplot as plt\n",
        "%matplotlib inline\n",
        "import time  # Import the time module to check the time taken to complete the process"
      ]
    },
    {
      "cell_type": "code",
      "execution_count": null,
      "metadata": {
        "id": "Nm1bh0q9z3Sy"
      },
      "outputs": [],
      "source": [
        "# Define the function:\n",
        "def f(x: float) -> float:\n",
        "    func = 1/2 - np.exp(-x)\n",
        "    return func\n",
        "\n",
        "# Define the algorithm part of the Bisection method:\n",
        "def bisection(a,b,tolerance):\n",
        "    \"\"\"\n",
        "    Finds the root of a function using the bisection method.\n",
        "\n",
        "    Args:\n",
        "        a: The left endpoint of the interval.\n",
        "        b: The right endpoint of the interval.\n",
        "        tolerance: The maximum error allowed.\n",
        "\n",
        "    Returns:\n",
        "        True if a root is found within the tolerance, False otherwise.\n",
        "    \"\"\"\n",
        "    if f(a)*f(b)>0:\n",
        "        print(\"The root is not in between the interval.\")\n",
        "        return False\n",
        "    else:\n",
        "      iteration = 0 # Iteration is used to find the total number of iterations is needed to find the root.\n",
        "      while (b-a)/2 >tolerance:\n",
        "        c = (a+b)/2 # The mid point of the interval which is the new end point after iteration.\n",
        "        if f(c) == 0:\n",
        "          break # c is the root of the function.\n",
        "        elif f(a)*f(c)<0:\n",
        "          b = c # The root lies between 'a' and 'c'.\n",
        "        else:\n",
        "          a = c # The root lies between 'b' and 'c'.\n",
        "        iteration += 1\n",
        "    print(f\"The root of the given function after {iteration}th itration is:{c:.4f}\")\n",
        "    return True\n"
      ]
    },
    {
      "cell_type": "code",
      "source": [
        "# Main function to drive the program\n",
        "def main():\n",
        "    while True:\n",
        "        try:\n",
        "            a = float(input(\"Enter the lower bound of the interval (a): \"))\n",
        "            b = float(input(\"Enter the upper bound of the interval (b): \"))\n",
        "            tolerance = float(input(\"Enter the tolerance (maximum error): \"))\n",
        "\n",
        "            if a >= b:\n",
        "                print(\"Error: The lower bound must be less than the upper bound. Please try again.\")\n",
        "                continue\n",
        "            if tolerance <= 0:\n",
        "                print(\"Error: Tolerance must be a positive number. Please try again.\")\n",
        "                continue\n",
        "\n",
        "        except ValueError:\n",
        "            print(\"Invalid input. Please enter correct numeric values.\")\n",
        "            print(\"Starting the process from the beginning. Enter the correct inputs this time.\")\n",
        "            print(\"\")\n",
        "            continue\n",
        "\n",
        "        # Start the timer\n",
        "        start_time = time.time()\n",
        "\n",
        "        # Attempt to find the root:\n",
        "        if bisection(a, b, tolerance):\n",
        "            # Stop the timer\n",
        "            end_time = time.time()\n",
        "            print(f\"Execution time: {end_time - start_time:.4f} seconds\")\n",
        "            break  # Exit the loop if a valid root is found.\n",
        "        else:\n",
        "            print(\"Please select another interval.\")\n",
        "            print(\"\")\n",
        "\n",
        "# Entry point of the program:\n",
        "if __name__ == \"__main__\":\n",
        "    main()\n"
      ],
      "metadata": {
        "colab": {
          "base_uri": "https://localhost:8080/"
        },
        "id": "ygbasJqE-uF7",
        "outputId": "f3289b8d-ada5-4355-aa64-0b7aea6b1bda"
      },
      "execution_count": null,
      "outputs": [
        {
          "output_type": "stream",
          "name": "stdout",
          "text": [
            "Enter the lower bound of the interval (a): q\n",
            "Invalid input. Please enter correct numeric values.\n",
            "Starting the process from the beginning. Enter the correct inputs this time.\n",
            "\n",
            "Enter the lower bound of the interval (a): 1\n",
            "Enter the upper bound of the interval (b): 2\n",
            "Enter the tolerance (maximum error): 1e-6\n",
            "The root is not in between the interval.\n",
            "Please select another interval.\n",
            "\n",
            "Enter the lower bound of the interval (a): 0\n",
            "Enter the upper bound of the interval (b): 1\n",
            "Enter the tolerance (maximum error): 1e-6\n",
            "The root of the given function after 19th itration is:0.6931\n",
            "Execution time: 0.0012 seconds\n"
          ]
        }
      ]
    },
    {
      "cell_type": "markdown",
      "metadata": {
        "id": "Orua1V4zz3S0"
      },
      "source": [
        "## False-position method\n"
      ]
    },
    {
      "cell_type": "markdown",
      "metadata": {
        "id": "3Xp1i5Bmz3S1"
      },
      "source": [
        "Use the false position method to find the root of the function\n",
        "$$ f(x) = \\frac{1}{2} - e^{-x}$$\n",
        "and compare to the bisection method"
      ]
    },
    {
      "cell_type": "code",
      "source": [
        "# Define the function:\n",
        "def f(x: float) -> float:\n",
        "    func = 1/2 - np.exp(-x)\n",
        "    return func\n",
        "\n",
        "# Define the algorithm part of the False Position method:\n",
        "def falseposition(a,b,tolerance):\n",
        "    \"\"\"\n",
        "    Performs the false position method to find the root of the function f.\n",
        "\n",
        "    Args:\n",
        "        a: The left endpoint of the interval.\n",
        "        b: The right endpoint of the interval.\n",
        "        tolerance: The desired tolerance (maximum error) for the root.\n",
        "\n",
        "    Returns:\n",
        "        True if a root is found within the tolerance, False otherwise.\n",
        "    \"\"\"\n",
        "    if f(a)*f(b)>0:\n",
        "        print(\"The root is not in between the interval.\")\n",
        "        return False\n",
        "    else:\n",
        "      iteration = 0 # iteration is used to find the total number of iterations is needed to find the root.\n",
        "      while (b-a)/2 >tolerance:\n",
        "        c = b - (f(b)*(b-a))/(f(b)-f(a)) # The new position of the interval which is the new end point after iteration.\n",
        "        if f(c) == 0:\n",
        "          break # c is the root of the function.\n",
        "        elif f(a)*f(c)<0:\n",
        "          b = c # The root lies between 'a' and 'c'.\n",
        "        else:\n",
        "          a = c # The root lies between 'b' and 'c'.\n",
        "        iteration += 1\n",
        "    print(f\"The root of the given function after {iteration}th itration is:{c:.4f}\")\n",
        "    return True\n"
      ],
      "metadata": {
        "id": "bXUKy5iNEhtK"
      },
      "execution_count": null,
      "outputs": []
    },
    {
      "cell_type": "code",
      "source": [
        "# Main function to drive the program\n",
        "def main():\n",
        "    while True:\n",
        "        try:\n",
        "            a = float(input(\"Enter the lower bound of the interval (a): \"))\n",
        "            b = float(input(\"Enter the upper bound of the interval (b): \"))\n",
        "            tolerance = float(input(\"Enter the tolerance (maximum error): \"))\n",
        "\n",
        "            if a >= b:\n",
        "                print(\"Error: The lower bound must be less than the upper bound. Please try again.\")\n",
        "                continue\n",
        "            if tolerance <= 0:\n",
        "                print(\"Error: Tolerance must be a positive number. Please try again.\")\n",
        "                continue\n",
        "\n",
        "        except ValueError:\n",
        "            print(\"Invalid input. Please enter correct numeric values.\")\n",
        "            print(\"Starting the process from the beginning. Enter the correct inputs this time.\")\n",
        "            print(\"\")\n",
        "            continue\n",
        "\n",
        "        # Start the timer\n",
        "        start_time = time.time()\n",
        "\n",
        "        # Attempt to find the root:\n",
        "        if falseposition(a, b, tolerance):\n",
        "            # Stop the timer\n",
        "            end_time = time.time()\n",
        "            print(f\"Execution time: {end_time - start_time:.4f} seconds\")\n",
        "            break  # Exit the loop if a valid root is found.\n",
        "        else:\n",
        "            print(\"Please select another interval.\")\n",
        "            print(\"\")\n",
        "\n",
        "# Entry point of the program:\n",
        "if __name__ == \"__main__\":\n",
        "    main()\n"
      ],
      "metadata": {
        "id": "4kzcscQKGrbk",
        "colab": {
          "base_uri": "https://localhost:8080/"
        },
        "outputId": "76cde38a-6d01-4c8a-fcd8-de519affb2b8"
      },
      "execution_count": null,
      "outputs": [
        {
          "output_type": "stream",
          "name": "stdout",
          "text": [
            "Enter the lower bound of the interval (a): q\n",
            "Invalid input. Please enter correct numeric values.\n",
            "Starting the process from the beginning. Enter the correct inputs this time.\n",
            "\n",
            "Enter the lower bound of the interval (a): 1\n",
            "Enter the upper bound of the interval (b): 2\n",
            "Enter the tolerance (maximum error): 1e-6\n",
            "The root is not in between the interval.\n",
            "Please select another interval.\n",
            "\n",
            "Enter the lower bound of the interval (a): 0\n",
            "Enter the upper bound of the interval (b): 1\n",
            "Enter the tolerance (maximum error): 1e-6\n",
            "The root of the given function after 30th itration is:0.6931\n",
            "Execution time: 0.0017 seconds\n"
          ]
        }
      ]
    },
    {
      "cell_type": "markdown",
      "source": [
        "###*Comparison* between [`Bisection method`](https://colab.research.google.com/drive/1fh12VNuD37e7NCDA6XHIo9Qo3F_M4nyM#scrollTo=lmuXFrC_z3Sr) and [`False Position method`](https://colab.research.google.com/drive/1fh12VNuD37e7NCDA6XHIo9Qo3F_M4nyM#scrollTo=Orua1V4zz3S0&line=2&uniqifier=1).\n",
        "We take same values for both case to compare these two method and run the code.\n",
        "Those values are given below -\n",
        "\n",
        "*   The lower bound of the interval (a) is : 0\n",
        "*   The upper bound of the interval (b) is : 1\n",
        "*   The tolerance (maximum error) is : 1e-6\n",
        "\n",
        "After running each code, we observe the following -\n",
        "\n",
        "|          | [`Bisection method`](https://colab.research.google.com/drive/1fh12VNuD37e7NCDA6XHIo9Qo3F_M4nyM#scrollTo=lmuXFrC_z3Sr)     | [`False Position method`](https://colab.research.google.com/drive/1fh12VNuD37e7NCDA6XHIo9Qo3F_M4nyM#scrollTo=Orua1V4zz3S0&line=2&uniqifier=1) |\n",
        "|--------------|:-----------:|:------------:|\n",
        "| Iterations | 19      | 30       |\n",
        "| Execution time      | 0.0012 seconds  | 0.0017 seconds       |\n",
        "\n",
        "\n",
        "\n",
        "\n",
        "From these results we are concluding that Bisection method is more effective (in the point of view of iterations and execution time) than the False Position method for the chosen parameters(values).\n",
        "\n",
        "\n",
        "\n",
        "\n",
        "\n"
      ],
      "metadata": {
        "id": "tUAzFatbBBOf"
      }
    },
    {
      "cell_type": "markdown",
      "metadata": {
        "id": "hbthxeJKz3S3"
      },
      "source": [
        "## The Newton-Raphson Method"
      ]
    },
    {
      "cell_type": "markdown",
      "metadata": {
        "id": "q1JIzbImz3S3"
      },
      "source": [
        "Implement the Newton-Rapshon method to solve\n",
        "$$ f(x) = \\frac{1}{2} - e^{-x}$$\n",
        "and compare to the bisection and false position methods\n",
        "\n",
        "- Try different starting guess values, e.g. -1, 1, 5 and 30\n",
        "- Comment"
      ]
    },
    {
      "cell_type": "code",
      "execution_count": null,
      "metadata": {
        "id": "5ohyQ6L5z3S4"
      },
      "outputs": [],
      "source": [
        "# Define the function:\n",
        "def f(x: float) -> float:\n",
        "    return 1/2 - np.exp(-x)\n",
        "\n",
        "# Define the derivative of the function:\n",
        "def df(x: float) -> float:\n",
        "    h = 1e-6  # The limit from the definition of Derivative.\n",
        "    return (f(x + h) - f(x)) / h  # Definition of Derivative.\n",
        "\n",
        "# Define the algorithm part of the Newton-Raphson method:\n",
        "def newton_raphson(guess: float, tolerance: float, maximum_iterations) -> float:\n",
        "    \"\"\"\n",
        "    Implements the Newton-Raphson method to find the root of a function.\n",
        "\n",
        "    Args:\n",
        "        guess: The initial guess for the root.\n",
        "        tolerance: The desired accuracy of the solution.\n",
        "        max_iterations: The maximum number of iterations.\n",
        "    Returns:\n",
        "        The approximate root of the function, or None if the method fails to converge.\n",
        "    \"\"\"\n",
        "    iteration = 0  # Used to count the number of iterations.\n",
        "    while iteration < maximum_iterations:  # Limit the number of iterations to prevent infinite loops.\n",
        "        if abs(f(guess)) < tolerance:\n",
        "            print(f\"The root of the given function after {iteration} iterations is: {guess:.4f}\")\n",
        "            return guess  # Return the found root.\n",
        "\n",
        "        derivative = df(guess)\n",
        "        if derivative == 0:\n",
        "            print(\"Derivative is zero. No solution found.\")\n",
        "            return None  # Avoid division by zero.\n",
        "\n",
        "        new_guess = guess - f(guess) / derivative\n",
        "        if abs(new_guess - guess) < tolerance:\n",
        "            print(f\"The root of the given function after {iteration} iterations is: {new_guess:.4f}\")\n",
        "            return new_guess  # Return the found root.\n",
        "\n",
        "        guess = new_guess\n",
        "        iteration += 1\n",
        "\n"
      ]
    },
    {
      "cell_type": "code",
      "source": [
        "# Main function to drive the program\n",
        "def main():\n",
        "    while True:\n",
        "        try:\n",
        "            guess = float(input(\"Enter the initial guess: \"))\n",
        "            tolerance = float(input(\"Enter the tolerance (maximum error): \"))\n",
        "            maximum_iterations = int(input(\"Enter the maximum number of iterations: \"))\n",
        "\n",
        "            if tolerance <= 0:\n",
        "                print(\"Error: Tolerance must be a positive number. Please try again.\")\n",
        "                continue\n",
        "            if maximum_iterations <= 0:\n",
        "                print(\"Error: Maximum number of iterations must be a positive integer. Please try again.\")\n",
        "                continue\n",
        "        except ValueError:\n",
        "            print(\"Invalid input. Please enter correct numeric values.\")\n",
        "            print(\"Starting the process from the beginning. Enter the correct inputs this time.\")\n",
        "            print(\"\")\n",
        "            continue\n",
        "\n",
        "        # Start the timer\n",
        "        start_time = time.time()\n",
        "\n",
        "        # Attempt to find the root:\n",
        "        if newton_raphson(guess, tolerance, maximum_iterations) is not None:\n",
        "            # Stop the timer\n",
        "            end_time = time.time()\n",
        "            print(f\"Execution time: {end_time - start_time:.4f} seconds\")\n",
        "            break  # Exit the loop if a valid root is found.\n",
        "        else:\n",
        "            print(\"Newton-Raphson method failed to converge.\")\n",
        "            print(\"Please make another guess.\")\n",
        "            print(\"\")\n",
        "\n",
        "# Entry point of the program:\n",
        "if __name__ == \"__main__\":\n",
        "    main()\n"
      ],
      "metadata": {
        "colab": {
          "base_uri": "https://localhost:8080/"
        },
        "id": "5HKngyB7eUu8",
        "outputId": "9dfbdee6-c8da-4e12-84d2-dd55eece1d3a"
      },
      "execution_count": null,
      "outputs": [
        {
          "name": "stdout",
          "output_type": "stream",
          "text": [
            "Enter the initial guess: 1q\n",
            "Invalid input. Please enter correct numeric values.\n",
            "Starting the process from the beginning. Enter the correct inputs this time.\n",
            "\n",
            "Enter the initial guess: 10\n",
            "Enter the tolerance (maximum error): 1e-6\n",
            "Enter the maximum number of iterations: 100\n"
          ]
        },
        {
          "output_type": "stream",
          "name": "stderr",
          "text": [
            "<ipython-input-6-5c3c3e4eaa04>:3: RuntimeWarning: overflow encountered in exp\n",
            "  return 1/2 - np.exp(-x)\n",
            "<ipython-input-6-5c3c3e4eaa04>:8: RuntimeWarning: invalid value encountered in scalar subtract\n",
            "  return (f(x + h) - f(x)) / h  # Definition of Derivative.\n"
          ]
        },
        {
          "output_type": "stream",
          "name": "stdout",
          "text": [
            "Newton-Raphson method failed to converge.\n",
            "Please make another guess.\n",
            "\n",
            "Enter the initial guess: 10\n",
            "Enter the tolerance (maximum error): 1e-6\n",
            "Enter the maximum number of iterations: 100\n",
            "Newton-Raphson method failed to converge.\n",
            "Please make another guess.\n",
            "\n",
            "Enter the initial guess: 1\n",
            "Enter the tolerance (maximum error): 1e-6\n",
            "Enter the maximum number of iterations: 100\n",
            "The root of the given function after 3 iterations is: 0.6931\n",
            "Execution time: 0.0013 seconds\n"
          ]
        }
      ]
    },
    {
      "cell_type": "markdown",
      "source": [
        "###*Comparison* between [`Bisection method`](https://colab.research.google.com/drive/1fh12VNuD37e7NCDA6XHIo9Qo3F_M4nyM#scrollTo=lmuXFrC_z3Sr), [`False Position method`](https://colab.research.google.com/drive/1fh12VNuD37e7NCDA6XHIo9Qo3F_M4nyM#scrollTo=Orua1V4zz3S0&line=2&uniqifier=1) and [`Newton-Raphson method`](https://colab.research.google.com/drive/1fh12VNuD37e7NCDA6XHIo9Qo3F_M4nyM#scrollTo=hbthxeJKz3S3).\n",
        "We take same values for both case to compare these two method and run the code.\n",
        "Those values are given below -\n",
        "\n",
        "\n",
        "*   The tolerance (maximum error) is : 1e-6\n",
        "\n",
        "After running each code, we observe the following -\n",
        "\n",
        "|          | [`Bisection method`](https://colab.research.google.com/drive/1fh12VNuD37e7NCDA6XHIo9Qo3F_M4nyM#scrollTo=lmuXFrC_z3Sr)     |[`False Position method`](https://colab.research.google.com/drive/1fh12VNuD37e7NCDA6XHIo9Qo3F_M4nyM#scrollTo=Orua1V4zz3S0&line=2&uniqifier=1)| [`Newton-Raphson method`](https://colab.research.google.com/drive/1fh12VNuD37e7NCDA6XHIo9Qo3F_M4nyM#scrollTo=hbthxeJKz3S3) |\n",
        "|--------------|:-----------:|:------------------------:|:------------:|\n",
        "| Iterations | 19      |30| 3       |\n",
        "| Execution time      | 0.0012 seconds  |0.0017 seconds| 0.0013 seconds       |\n",
        "\n",
        "\n",
        "\n",
        "From these results we are concluding that the execution time for the same tolerance in the Bisection method and the Newton-Raphson method is comparable, but not for the False Position method. Therefore, the Newton-Raphson method is the most effective and the False Position method is least effective method (in the point of view of iterations and execution time) for the chosen parameters(values).\n",
        "\n",
        "\n",
        "\n",
        "\n",
        "\n"
      ],
      "metadata": {
        "id": "w7Z-Kqb57fMH"
      }
    },
    {
      "cell_type": "markdown",
      "metadata": {
        "id": "NAj4x7bkz3S4"
      },
      "source": [
        "\n",
        "## The Secant Method"
      ]
    },
    {
      "cell_type": "markdown",
      "metadata": {
        "id": "dz6LBxrJz3S4"
      },
      "source": [
        "Implement the Newton-Rapshon method to solve\n",
        "$$ f(x) = \\frac{1}{2} - e^{-x}$$\n",
        "and compare to the bisection and false position methods\n",
        "\n",
        "- Try different starting guess values, e.g. -1, 1, 5 and 30\n",
        "- Comment"
      ]
    },
    {
      "cell_type": "code",
      "execution_count": null,
      "metadata": {
        "id": "67mK0aqpz3S4"
      },
      "outputs": [],
      "source": [
        "# Define the function:\n",
        "def f(x: float) -> float:\n",
        "    return 1/2 - np.exp(-x)\n",
        "\n",
        "def secant(x0, x1, tolerance, max_iterations):\n",
        "    \"\"\"\n",
        "    Implements the secant method to find the root of a function.\n",
        "\n",
        "    Args:\n",
        "        x0: The first initial guess for the root.\n",
        "        x1: The second initial guess for the root.\n",
        "        tolerance: The desired accuracy of the solution.\n",
        "        max_iterations: The maximum number of iterations.\n",
        "\n",
        "    Returns:\n",
        "        The approximate root of the function, or None if the method fails to converge.\n",
        "    \"\"\"\n",
        "    iteration = 0\n",
        "    while iteration < max_iterations:\n",
        "        if abs(f(x1)) < tolerance:\n",
        "            print(f\"The root of the given function after {iteration} iterations is: {x1:.4f}\")\n",
        "            return x1\n",
        "\n",
        "        if f(x1) - f(x0) == 0:\n",
        "            print(\"Division by zero encountered. Method failed.\")\n",
        "            return None\n",
        "\n",
        "        x2 = x1 - f(x1) * (x1 - x0) / (f(x1) - f(x0))\n",
        "\n",
        "        if abs(x2 - x1) < tolerance:\n",
        "            print(f\"The root of the given function after {iteration} iterations is: {x2:.4f}\")\n",
        "            return x2\n",
        "\n",
        "        x0 = x1\n",
        "        x1 = x2\n",
        "        iteration += 1\n",
        "\n",
        "    print(\"Secant method failed to converge.\")\n",
        "    return None\n"
      ]
    },
    {
      "cell_type": "code",
      "source": [
        "# Main function to drive the program\n",
        "def main():\n",
        "    while True:\n",
        "        try:\n",
        "            x0 = float(input(\"Enter the first initial guess: \"))\n",
        "            x1 = float(input(\"Enter the second initial guess: \"))\n",
        "            tolerance = float(input(\"Enter the tolerance (maximum error): \"))\n",
        "            max_iterations = int(input(\"Enter the maximum number of iterations: \"))\n",
        "\n",
        "            if tolerance <= 0:\n",
        "                print(\"Error: Tolerance must be a positive number. Please try again.\")\n",
        "                continue\n",
        "            if max_iterations <= 0:\n",
        "                print(\"Error: Maximum number of iterations must be a positive integer. Please try again.\")\n",
        "                continue\n",
        "        except ValueError:\n",
        "            print(\"Invalid input. Please enter correct numeric values.\")\n",
        "            print(\"Starting the process from the beginning. Enter the correct inputs this time.\")\n",
        "            print(\"\")\n",
        "            continue\n",
        "\n",
        "        # Start the timer\n",
        "        start_time = time.time()\n",
        "\n",
        "        # Attempt to find the root:\n",
        "        if secant(x0, x1, tolerance, max_iterations) is not None:\n",
        "            # Stop the timer\n",
        "            end_time = time.time()\n",
        "            print(f\"Execution time: {end_time - start_time:.4f} seconds\")\n",
        "            break  # Exit the loop if a valid root is found.\n",
        "        else:\n",
        "            print(\"Secant method failed to converge.\")\n",
        "            print(\"Please make another guess.\")\n",
        "            print(\"\")\n",
        "\n",
        "\n",
        "if __name__ == \"__main__\":\n",
        "    main()\n"
      ],
      "metadata": {
        "colab": {
          "base_uri": "https://localhost:8080/"
        },
        "id": "ENBvym0pfFhR",
        "outputId": "b10436a7-15a9-47b6-f9de-536096a7313b"
      },
      "execution_count": null,
      "outputs": [
        {
          "output_type": "stream",
          "name": "stdout",
          "text": [
            "Enter the first initial guess: 1\n",
            "Enter the second initial guess: -1\n",
            "Enter the tolerance (maximum error): 1e-6\n",
            "Enter the maximum number of iterations: 100\n",
            "The root of the given function after 6 iterations is: 0.6931\n",
            "Execution time: 0.0014 seconds\n"
          ]
        }
      ]
    },
    {
      "cell_type": "markdown",
      "source": [
        "###*Comparison* between [`Bisection method`](https://colab.research.google.com/drive/1fh12VNuD37e7NCDA6XHIo9Qo3F_M4nyM#scrollTo=lmuXFrC_z3Sr), [`False Position method`](https://colab.research.google.com/drive/1fh12VNuD37e7NCDA6XHIo9Qo3F_M4nyM#scrollTo=Orua1V4zz3S0&line=2&uniqifier=1) and [`Secant Method`](https://colab.research.google.com/drive/1fh12VNuD37e7NCDA6XHIo9Qo3F_M4nyM#scrollTo=NAj4x7bkz3S4).\n",
        "We take same values for both case to compare these two method and run the code.\n",
        "Those values are given below -\n",
        "\n",
        "\n",
        "*   The tolerance (maximum error) is : 1e-6\n",
        "\n",
        "After running each code, we observe the following -\n",
        "\n",
        "|          | [`Bisection method`](https://colab.research.google.com/drive/1fh12VNuD37e7NCDA6XHIo9Qo3F_M4nyM#scrollTo=lmuXFrC_z3Sr)     |[`False Position method`](https://colab.research.google.com/drive/1fh12VNuD37e7NCDA6XHIo9Qo3F_M4nyM#scrollTo=Orua1V4zz3S0&line=2&uniqifier=1)| [`Secant Method`](https://colab.research.google.com/drive/1fh12VNuD37e7NCDA6XHIo9Qo3F_M4nyM#scrollTo=NAj4x7bkz3S4)|\n",
        "|--------------|:-----------:|:------------------------:|:------------:|\n",
        "| Iterations | 19      |30| 6      |\n",
        "| Execution time      | 0.0012 seconds  |0.0017 seconds| 0.0014 seconds       |\n",
        "\n",
        "\n",
        "\n",
        "From these results we are concluding that the execution time for the same tolerance in the Bisection method and the Secant method is comparable, but not for the False Position method. Therefore, the Secant method is the most effective and the False Position method is least effective method (in the point of view of iterations and execution time) for the chosen parameters(values).\n",
        "\n",
        "\n",
        "\n",
        "\n",
        "\n"
      ],
      "metadata": {
        "id": "GGGPToCH-jPd"
      }
    },
    {
      "cell_type": "markdown",
      "metadata": {
        "id": "lb-OX5oIz3S5"
      },
      "source": [
        "## The Modified Secant Method"
      ]
    },
    {
      "cell_type": "markdown",
      "metadata": {
        "id": "OdMxU9oez3S5"
      },
      "source": [
        "Implement the modified secant method and compare it to the other methods."
      ]
    },
    {
      "cell_type": "code",
      "execution_count": null,
      "metadata": {
        "id": "loLcOh01z3S6"
      },
      "outputs": [],
      "source": [
        "#Define the function\n",
        "def f(x: float) -> float:\n",
        "    return 1/2 - np.exp(-x)\n",
        "\n",
        "def modified_secant(x0, delta, tolerance, max_iterations):\n",
        "    \"\"\"\n",
        "    Implements the modified secant method to find the root of a function.\n",
        "\n",
        "    Args:\n",
        "        x0: The initial guess for the root.\n",
        "        delta: Perturbation factor.\n",
        "        tolerance: The desired accuracy of the solution.\n",
        "        max_iterations: The maximum number of iterations.\n",
        "\n",
        "    Returns:\n",
        "        The approximate root of the function, or None if the method fails to converge.\n",
        "    \"\"\"\n",
        "    iteration = 0\n",
        "    while iteration < max_iterations:\n",
        "        if abs(f(x0)) < tolerance:\n",
        "            print(f\"The root of the given function after {iteration} iterations is: {x0:.4f}\")\n",
        "            return x0\n",
        "\n",
        "        if f(x0 + delta * x0) - f(x0) == 0:\n",
        "            print(\"Division by zero encountered. Method failed.\")\n",
        "            return None\n",
        "\n",
        "        x1 = x0 - f(x0) * (delta * x0) / (f(x0 + delta * x0) - f(x0))\n",
        "\n",
        "        if abs(x1 - x0) < tolerance:\n",
        "            print(f\"The root of the given function after {iteration} iterations is: {x1:.4f}\")\n",
        "            return x1\n",
        "\n",
        "        x0 = x1\n",
        "        iteration += 1\n"
      ]
    },
    {
      "cell_type": "code",
      "source": [
        "# Main function to drive the program\n",
        "def main():\n",
        "    while True:\n",
        "        try:\n",
        "            x0 = float(input(\"Enter the initial guess: \"))\n",
        "            delta = float(input(\"Enter the perturbation factor (delta): \"))\n",
        "            tolerance = float(input(\"Enter the tolerance (maximum error): \"))\n",
        "            max_iterations = int(input(\"Enter the maximum number of iterations: \"))\n",
        "\n",
        "            if tolerance <= 0:\n",
        "                print(\"Error: Tolerance must be a positive number. Please try again.\")\n",
        "                continue\n",
        "            if max_iterations <= 0:\n",
        "                print(\"Error: Maximum number of iterations must be a positive integer. Please try again.\")\n",
        "                continue\n",
        "        except ValueError:\n",
        "            print(\"Invalid input. Please enter correct numeric values.\")\n",
        "            print(\"Starting the process from the beginning. Enter the correct inputs this time.\")\n",
        "            print(\"\")\n",
        "            continue\n",
        "\n",
        "        # Start the timer\n",
        "        start_time = time.time()\n",
        "\n",
        "        # Attempt to find the root:\n",
        "        if modified_secant(x0, delta, tolerance, max_iterations) is not None:\n",
        "            # Stop the timer\n",
        "            end_time = time.time()\n",
        "            print(f\"Execution time: {end_time - start_time:.4f} seconds\")\n",
        "            break  # Exit the loop if a valid root is found.\n",
        "        else:\n",
        "            print(\"Modified secant method failed to converge.\")\n",
        "            print(\"Please make another guess.\")\n",
        "            print(\"\")\n",
        "\n",
        "\n",
        "if __name__ == \"__main__\":\n",
        "    main()\n"
      ],
      "metadata": {
        "colab": {
          "base_uri": "https://localhost:8080/"
        },
        "id": "lrRFi9AYUGrx",
        "outputId": "cc120f32-2cf5-4487-964f-1771d435d147"
      },
      "execution_count": null,
      "outputs": [
        {
          "output_type": "stream",
          "name": "stdout",
          "text": [
            "Enter the initial guess: 1\n",
            "Enter the perturbation factor (delta): 1e-6\n",
            "Enter the tolerance (maximum error): 1e-6\n",
            "Enter the maximum number of iterations: 100\n",
            "The root of the given function after 3 iterations is: 0.6931\n",
            "Execution time: 0.0003 seconds\n"
          ]
        }
      ]
    },
    {
      "cell_type": "markdown",
      "source": [
        "###*Comparison* between [`Bisection method`](https://colab.research.google.com/drive/1fh12VNuD37e7NCDA6XHIo9Qo3F_M4nyM#scrollTo=lmuXFrC_z3Sr), [`False Position method`](https://colab.research.google.com/drive/1fh12VNuD37e7NCDA6XHIo9Qo3F_M4nyM#scrollTo=Orua1V4zz3S0&line=2&uniqifier=1) and [`Secant Method`](https://colab.research.google.com/drive/1fh12VNuD37e7NCDA6XHIo9Qo3F_M4nyM#scrollTo=NAj4x7bkz3S4).\n",
        "We take same values for both case to compare these two method and run the code.\n",
        "Those values are given below -\n",
        "\n",
        "\n",
        "*   The tolerance (maximum error) is : 1e-6\n",
        "\n",
        "After running each code, we observe the following -\n",
        "\n",
        "|          | [`Bisection method`](https://colab.research.google.com/drive/1fh12VNuD37e7NCDA6XHIo9Qo3F_M4nyM#scrollTo=lmuXFrC_z3Sr)     |[`False Position method`](https://colab.research.google.com/drive/1fh12VNuD37e7NCDA6XHIo9Qo3F_M4nyM#scrollTo=Orua1V4zz3S0&line=2&uniqifier=1)| [`Secant Method`](https://colab.research.google.com/drive/1fh12VNuD37e7NCDA6XHIo9Qo3F_M4nyM#scrollTo=NAj4x7bkz3S4)|[`The Modified Secant  Method`](https://colab.research.google.com/drive/1fh12VNuD37e7NCDA6XHIo9Qo3F_M4nyM#scrollTo=lb-OX5oIz3S5)|\n",
        "|--------------|:-----------:|:------------------------:|:------------:|:----:|\n",
        "| Iterations | 19      |30| 6      |3|\n",
        "| Execution time      | 0.0012 seconds  |0.0017 seconds| 0.0014 seconds |0.0003 seconds|\n",
        "\n",
        "\n",
        "\n",
        "From these results we are concluding that the execution time for the same tolerance in the Bisection method and the Secant method is comparable, but not for the False Position method. Therefore, the Secant method is the most effective and the False Position method is least effective method (in the point of view of iterations and execution time) for the chosen parameters(values) among the first three methods.\n",
        "\n",
        "`Overall` The Modified Secant method is the most effective and the False Position method is least effective method (in the point of view of iterations and execution time) for the chosen parameters(values).\n",
        "\n",
        "\n",
        "\n"
      ],
      "metadata": {
        "id": "a9eGPNWW_N-M"
      }
    },
    {
      "cell_type": "markdown",
      "source": [
        "---\n",
        "###***Notes:***\n",
        "We consider that instead of fixing the initial conditions (a, b, maximum error), it is better to give the inputs from the terminal. When giving the inputs we enter some absurd values (in our case 'q' instead of '1'). We did it because we think there might be input errors from the users (like '1' is just above 'q' in the QWERTY keyboard and sometimes there might be a typing error.) We also consider the range/interval where the root belong. So if the root is not in the chosen range, then we can again chose the range accordingly. In our case we chose the interval [1,2] and get that the root(viz. 0.6931) is not within the range. These parts are additional in the codes and probably not requied also for the asssignments. We did it because we wanted to extend our thinking of the possibility.\n",
        "\n",
        "\n",
        "---"
      ],
      "metadata": {
        "id": "t52Isg6vylVE"
      }
    }
  ],
  "metadata": {
    "kernelspec": {
      "display_name": "Python 3 (ipykernel)",
      "language": "python",
      "name": "python3"
    },
    "language_info": {
      "codemirror_mode": {
        "name": "ipython",
        "version": 3
      },
      "file_extension": ".py",
      "mimetype": "text/x-python",
      "name": "python",
      "nbconvert_exporter": "python",
      "pygments_lexer": "ipython3",
      "version": "3.12.6"
    },
    "colab": {
      "provenance": [],
      "collapsed_sections": [
        "lmuXFrC_z3Sr"
      ]
    }
  },
  "nbformat": 4,
  "nbformat_minor": 0
}