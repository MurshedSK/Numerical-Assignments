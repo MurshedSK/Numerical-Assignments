{
  "cells": [
    {
      "cell_type": "markdown",
      "metadata": {
        "id": "rm95RbVYz3Se"
      },
      "source": [
        "- Student 1 Name: Murshed SK\n",
        "- Student 2 Name: Atyozzal Konwar\n",
        "\n",
        "change the name of this notebook to  `name_1_name_2_notebook_??.ipynb` with *no spaces, no accents and no strange characters!* and where `??` stands for the number of the notebook you are working on."
      ]
    },
    {
      "cell_type": "markdown",
      "metadata": {
        "id": "q5h02qYwz3So"
      },
      "source": [
        "# PPM Numerical Methods -- Numerical Methods for Physics"
      ]
    },
    {
      "cell_type": "markdown",
      "metadata": {
        "id": "UHRuhYn0z3Sp"
      },
      "source": [
        "# Numerical methods: Root finding"
      ]
    },
    {
      "cell_type": "markdown",
      "metadata": {
        "id": "pZPUSzqQz3Sq"
      },
      "source": [
        "# Root finding"
      ]
    },
    {
      "cell_type": "markdown",
      "metadata": {
        "id": "lmuXFrC_z3Sr"
      },
      "source": [
        "## Bisection method"
      ]
    },
    {
      "cell_type": "markdown",
      "metadata": {
        "id": "w09C0fLlz3Sv"
      },
      "source": [
        "Use the bisection method to find the root of the function\n",
        "$$ f(x) = \\frac{1}{2} - e^{-x}$$\n",
        "think carefully how to estimate the error to end the calculation."
      ]
    },
    {
      "cell_type": "code",
      "execution_count": 1,
      "metadata": {
        "id": "Vcz6DF4bz3Sw"
      },
      "outputs": [],
      "source": [
        "# Import necesary libraries for this notebook:\n",
        "import numpy as np\n",
        "import matplotlib.pyplot as plt\n",
        "%matplotlib inline"
      ]
    },
    {
      "cell_type": "code",
      "execution_count": 2,
      "metadata": {
        "id": "Nm1bh0q9z3Sy"
      },
      "outputs": [],
      "source": [
        "# Define the function:\n",
        "def f(x: float) -> float:\n",
        "    func = 1/2 - np.exp(-x)\n",
        "    return func\n",
        "\n",
        "# Define the algorithm part of the Bisection method:\n",
        "def bisection(a,b,tolerance):\n",
        "    \"\"\"\n",
        "    a, b are the endpoints of the interval and tolerance value is the maximum error.\n",
        "    \"\"\"\n",
        "    if f(a)*f(b)>0:\n",
        "        print(\"The root is not in between the interval.\")\n",
        "        return False\n",
        "    else:\n",
        "      iteration = 0 # Iteration is used to find the total number of iterations is needed to find the root.\n",
        "      while (b-a)/2 >tolerance:\n",
        "        c = (a+b)/2 # The mid point of the interval which is the new end point after iteration.\n",
        "        if f(c) ==0:\n",
        "          break # c is the root of the function.\n",
        "        elif f(a)*f(c)<0:\n",
        "          b = c # The root lies between 'a' and 'c'.\n",
        "        else:\n",
        "          a = c # The root lies between 'b' and 'c'.\n",
        "        iteration += 1\n",
        "    print(f\"The root of the given function after {iteration}th itration is:{c:.4f}\")\n",
        "    return True\n"
      ]
    },
    {
      "cell_type": "code",
      "source": [
        "def main():\n",
        "    while True:\n",
        "        try:\n",
        "            a = float(input(\"Enter the lower bound of the interval (a): \"))\n",
        "            b = float(input(\"Enter the upper bound of the interval (b): \"))\n",
        "            tolerance = float(input(\"Enter the tolerance (maximum error): \"))\n",
        "        except ValueError:\n",
        "            print(\"Invalid input. Please enter numeric values.\")\n",
        "            print(\"\")\n",
        "            continue\n",
        "\n",
        "        # Attempt to find the root:\n",
        "        if bisection(a, b, tolerance):\n",
        "            break  # Exit the loop if a valid root is found.\n",
        "        else:\n",
        "            print(\"Please select another interval.\")\n",
        "            print(\"\")\n",
        "\n",
        "# Entry point of the program:\n",
        "if __name__ == \"__main__\":\n",
        "    main()"
      ],
      "metadata": {
        "colab": {
          "base_uri": "https://localhost:8080/"
        },
        "id": "ygbasJqE-uF7",
        "outputId": "9c88c007-4219-4c8e-9db9-19c4b454e500"
      },
      "execution_count": 3,
      "outputs": [
        {
          "output_type": "stream",
          "name": "stdout",
          "text": [
            "Enter the lower bound of the interval (a): q\n",
            "Invalid input. Please enter numeric values.\n",
            "\n",
            "Enter the lower bound of the interval (a): 1\n",
            "Enter the upper bound of the interval (b): 2\n",
            "Enter the tolerance (maximum error): 1e-6\n",
            "The root is not in between the interval.\n",
            "Please select another interval.\n",
            "\n",
            "Enter the lower bound of the interval (a): 0\n",
            "Enter the upper bound of the interval (b): 1\n",
            "Enter the tolerance (maximum error): 1e-6\n",
            "The root of the given function after 19th itration is:0.6931\n"
          ]
        }
      ]
    },
    {
      "cell_type": "markdown",
      "metadata": {
        "id": "Orua1V4zz3S0"
      },
      "source": [
        "## False-position method"
      ]
    },
    {
      "cell_type": "markdown",
      "metadata": {
        "id": "3Xp1i5Bmz3S1"
      },
      "source": [
        "Use the false position method to find the root of the function\n",
        "$$ f(x) = \\frac{1}{2} - e^{-x}$$\n",
        "and compare to the bisection method"
      ]
    },
    {
      "cell_type": "code",
      "source": [
        "# Define the function:\n",
        "def f(x: float) -> float:\n",
        "    func = 1/2 - np.exp(-x)\n",
        "    return func\n",
        "\n",
        "# Define the algorithm part of the False Position method:\n",
        "def falseposition(a,b,tolerance):\n",
        "    \"\"\"\n",
        "    a, b are the endpoints of the interval and tolerance value is the maximum error.\n",
        "    \"\"\"\n",
        "    if f(a)*f(b)>0:\n",
        "        print(\"The root is not in between the interval.\")\n",
        "        return False\n",
        "    else:\n",
        "      iteration = 0 # iteration is used to find the total number of iterations is needed to find the root.\n",
        "      while (b-a)/2 >tolerance:\n",
        "        c = b - (f(b)*(b-a))/(f(b)-f(a)) # The new position of the interval which is the new end point after iteration.\n",
        "        if f(c) ==0:\n",
        "          break # c is the root of the function.\n",
        "        elif f(a)*f(c)<0:\n",
        "          b = c # The root lies between 'a' and 'c'.\n",
        "        else:\n",
        "          a = c # The root lies between 'b' and 'c'.\n",
        "        iteration += 1\n",
        "    print(f\"The root of the given function after {iteration}th itration is:{c:.4f}\")\n",
        "    return True\n"
      ],
      "metadata": {
        "id": "bXUKy5iNEhtK"
      },
      "execution_count": 4,
      "outputs": []
    },
    {
      "cell_type": "code",
      "source": [
        "def main():\n",
        "    while True:\n",
        "        try:\n",
        "            a = float(input(\"Enter the lower bound of the interval (a): \"))\n",
        "            b = float(input(\"Enter the upper bound of the interval (b): \"))\n",
        "            tolerance = float(input(\"Enter the tolerance (maximum error): \"))\n",
        "        except ValueError:\n",
        "            print(\"Invalid input. Please enter numeric values.\")\n",
        "            print(\"\")\n",
        "            continue\n",
        "\n",
        "        # Attempt to find the root:\n",
        "        if falseposition(a, b, tolerance):\n",
        "            break  # Exit the loop if a valid root is found.\n",
        "        else:\n",
        "            print(\"Please select another interval.\")\n",
        "            print(\"\")\n",
        "\n",
        "# Entry point of the program:\n",
        "if __name__ == \"__main__\":\n",
        "    main()\n"
      ],
      "metadata": {
        "colab": {
          "base_uri": "https://localhost:8080/"
        },
        "id": "4kzcscQKGrbk",
        "outputId": "e03d1905-d8a0-4843-a462-60f8175ed07f"
      },
      "execution_count": 5,
      "outputs": [
        {
          "output_type": "stream",
          "name": "stdout",
          "text": [
            "Enter the lower bound of the interval (a): q\n",
            "Invalid input. Please enter numeric values.\n",
            "\n",
            "Enter the lower bound of the interval (a): 1\n",
            "Enter the upper bound of the interval (b): 2\n",
            "Enter the tolerance (maximum error): 1e-6\n",
            "The root is not in between the interval.\n",
            "Please select another interval.\n",
            "\n",
            "Enter the lower bound of the interval (a): 0\n",
            "Enter the upper bound of the interval (b): 1\n",
            "Enter the tolerance (maximum error): 1e-6\n",
            "The root of the given function after 30th itration is:0.6931\n"
          ]
        }
      ]
    },
    {
      "cell_type": "markdown",
      "metadata": {
        "id": "hbthxeJKz3S3"
      },
      "source": [
        "## The Newton-Raphson Method"
      ]
    },
    {
      "cell_type": "markdown",
      "metadata": {
        "id": "q1JIzbImz3S3"
      },
      "source": [
        "Implement the Newton-Rapshon method to solve\n",
        "$$ f(x) = \\frac{1}{2} - e^{-x}$$\n",
        "and compare to the bisection and false position methods\n",
        "\n",
        "- Try different starting guess values, e.g. -1, 1, 5 and 30\n",
        "- Comment"
      ]
    },
    {
      "cell_type": "code",
      "execution_count": null,
      "metadata": {
        "id": "5ohyQ6L5z3S4"
      },
      "outputs": [],
      "source": [
        "\n"
      ]
    },
    {
      "cell_type": "markdown",
      "metadata": {
        "id": "NAj4x7bkz3S4"
      },
      "source": [
        "## The Secant Method"
      ]
    },
    {
      "cell_type": "markdown",
      "metadata": {
        "id": "dz6LBxrJz3S4"
      },
      "source": [
        "Implement the Newton-Rapshon method to solve\n",
        "$$ f(x) = \\frac{1}{2} - e^{-x}$$\n",
        "and compare to the bisection and false position methods\n",
        "\n",
        "- Try different starting guess values, e.g. -1, 1, 5 and 30\n",
        "- Comment"
      ]
    },
    {
      "cell_type": "code",
      "execution_count": null,
      "metadata": {
        "id": "67mK0aqpz3S4"
      },
      "outputs": [],
      "source": [
        "\n"
      ]
    },
    {
      "cell_type": "markdown",
      "metadata": {
        "id": "lb-OX5oIz3S5"
      },
      "source": [
        "## The Modified Secant Method"
      ]
    },
    {
      "cell_type": "markdown",
      "metadata": {
        "id": "OdMxU9oez3S5"
      },
      "source": [
        "Implement the modified secant method and compare it to the other methods."
      ]
    },
    {
      "cell_type": "code",
      "execution_count": null,
      "metadata": {
        "id": "loLcOh01z3S6"
      },
      "outputs": [],
      "source": [
        "\n"
      ]
    }
  ],
  "metadata": {
    "kernelspec": {
      "display_name": "Python 3 (ipykernel)",
      "language": "python",
      "name": "python3"
    },
    "language_info": {
      "codemirror_mode": {
        "name": "ipython",
        "version": 3
      },
      "file_extension": ".py",
      "mimetype": "text/x-python",
      "name": "python",
      "nbconvert_exporter": "python",
      "pygments_lexer": "ipython3",
      "version": "3.12.6"
    },
    "colab": {
      "provenance": []
    }
  },
  "nbformat": 4,
  "nbformat_minor": 0
}