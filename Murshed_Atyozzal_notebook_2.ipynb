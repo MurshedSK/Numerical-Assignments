{
  "cells": [
    {
      "cell_type": "markdown",
      "metadata": {
        "id": "view-in-github",
        "colab_type": "text"
      },
      "source": [
        "<a href=\"https://colab.research.google.com/github/MurshedSK/Numerical-Assignments/blob/main/Murshed_Atyozzal_notebook_2.ipynb\" target=\"_parent\"><img src=\"https://colab.research.google.com/assets/colab-badge.svg\" alt=\"Open In Colab\"/></a>"
      ]
    },
    {
      "cell_type": "markdown",
      "metadata": {
        "id": "rm95RbVYz3Se"
      },
      "source": [
        "- Student 1 Name: Murshed SK\n",
        "- Student 2 Name: Atyozzal Konwar\n",
        "\n",
        "change the name of this notebook to  `name_1_name_2_notebook_??.ipynb` with *no spaces, no accents and no strange characters!* and where `??` stands for the number of the notebook you are working on."
      ]
    },
    {
      "cell_type": "markdown",
      "metadata": {
        "id": "q5h02qYwz3So"
      },
      "source": [
        "# PPM Numerical Methods -- Numerical Methods for Physics"
      ]
    },
    {
      "cell_type": "markdown",
      "metadata": {
        "id": "UHRuhYn0z3Sp"
      },
      "source": [
        "# Numerical methods: Root finding"
      ]
    },
    {
      "cell_type": "markdown",
      "metadata": {
        "id": "pZPUSzqQz3Sq"
      },
      "source": [
        "# Root finding"
      ]
    },
    {
      "cell_type": "markdown",
      "metadata": {
        "id": "lmuXFrC_z3Sr"
      },
      "source": [
        "## Bisection method"
      ]
    },
    {
      "cell_type": "markdown",
      "metadata": {
        "id": "w09C0fLlz3Sv"
      },
      "source": [
        "Use the bisection method to find the root of the function\n",
        "    $$ f(x) = \\frac{1}{2} - e^{-x}$$\n",
        "think carefully how to estimate the error to end the calculation."
      ]
    },
    {
      "cell_type": "code",
      "execution_count": null,
      "metadata": {
        "id": "Vcz6DF4bz3Sw"
      },
      "outputs": [],
      "source": [
        "import numpy as np\n",
        "import matplotlib.pyplot as plt\n",
        "%matplotlib inline"
      ]
    },
    {
      "cell_type": "code",
      "execution_count": null,
      "metadata": {
        "id": "Nm1bh0q9z3Sy"
      },
      "outputs": [],
      "source": [
        "# Let's take two numbers as an interval\n",
        "# a = -10\n",
        "# b = 10\n",
        "# tolerance = 1e-5\n",
        "# define the function\n",
        "def f(x):\n",
        "    func = 1/2 - np.exp(-x)\n",
        "    return func\n",
        "# The algorithm part\n",
        "def bisection(a,b,tol):\n",
        "    if f(a)*f(b)>0:\n",
        "        return None\n",
        "    # c = a\n",
        "    while (b-a)/2 >tol:\n",
        "        c = (a+b)/2\n",
        "        if f(c) ==0:\n",
        "            break\n",
        "        elif f(a)*f(c)<0:\n",
        "            b = c\n",
        "        else:\n",
        "            a = c\n",
        "    return c"
      ]
    },
    {
      "cell_type": "code",
      "execution_count": null,
      "metadata": {
        "id": "KdgVy0YQz3Sz",
        "outputId": "913ee89c-bc52-4d69-e70c-cc152a02e2c0"
      },
      "outputs": [
        {
          "data": {
            "text/plain": [
              "0.6931471805728506"
            ]
          },
          "execution_count": 38,
          "metadata": {},
          "output_type": "execute_result"
        }
      ],
      "source": [
        "bisection(0,10,1e-10)"
      ]
    },
    {
      "cell_type": "markdown",
      "metadata": {
        "id": "Orua1V4zz3S0"
      },
      "source": [
        "## False-position method"
      ]
    },
    {
      "cell_type": "markdown",
      "metadata": {
        "id": "3Xp1i5Bmz3S1"
      },
      "source": [
        "Use the false position method to find the root of the function\n",
        "    $$ f(x) = \\frac{1}{2} - e^{-x}$$\n",
        "and compare to the bisection method"
      ]
    },
    {
      "cell_type": "code",
      "execution_count": null,
      "metadata": {
        "id": "PyOlR8JNz3S2"
      },
      "outputs": [],
      "source": []
    },
    {
      "cell_type": "markdown",
      "metadata": {
        "id": "hbthxeJKz3S3"
      },
      "source": [
        "## The Newton-Raphson Method"
      ]
    },
    {
      "cell_type": "markdown",
      "metadata": {
        "id": "q1JIzbImz3S3"
      },
      "source": [
        "Implement the Newton-Rapshon method to solve\n",
        "$$ f(x) = \\frac{1}{2} - e^{-x}$$\n",
        "and compare to the bisection and false position methods\n",
        "\n",
        "- Try different starting guess values, e.g. -1, 1, 5 and 30\n",
        "- Comment"
      ]
    },
    {
      "cell_type": "code",
      "execution_count": null,
      "metadata": {
        "id": "5ohyQ6L5z3S4"
      },
      "outputs": [],
      "source": []
    },
    {
      "cell_type": "markdown",
      "metadata": {
        "id": "NAj4x7bkz3S4"
      },
      "source": [
        "## The Secant Method"
      ]
    },
    {
      "cell_type": "markdown",
      "metadata": {
        "id": "dz6LBxrJz3S4"
      },
      "source": [
        "Implement the Newton-Rapshon method to solve\n",
        "$$ f(x) = \\frac{1}{2} - e^{-x}$$\n",
        "and compare to the bisection and false position methods\n",
        "\n",
        "- Try different starting guess values, e.g. -1, 1, 5 and 30\n",
        "- Comment"
      ]
    },
    {
      "cell_type": "code",
      "execution_count": null,
      "metadata": {
        "id": "67mK0aqpz3S4"
      },
      "outputs": [],
      "source": []
    },
    {
      "cell_type": "markdown",
      "metadata": {
        "id": "lb-OX5oIz3S5"
      },
      "source": [
        "## The Modified Secant Method"
      ]
    },
    {
      "cell_type": "markdown",
      "metadata": {
        "id": "OdMxU9oez3S5"
      },
      "source": [
        "Implement the modified secant method and compare it to the other methods."
      ]
    },
    {
      "cell_type": "code",
      "execution_count": null,
      "metadata": {
        "id": "loLcOh01z3S6"
      },
      "outputs": [],
      "source": []
    }
  ],
  "metadata": {
    "kernelspec": {
      "display_name": "Python 3 (ipykernel)",
      "language": "python",
      "name": "python3"
    },
    "language_info": {
      "codemirror_mode": {
        "name": "ipython",
        "version": 3
      },
      "file_extension": ".py",
      "mimetype": "text/x-python",
      "name": "python",
      "nbconvert_exporter": "python",
      "pygments_lexer": "ipython3",
      "version": "3.12.6"
    },
    "colab": {
      "provenance": [],
      "toc_visible": true,
      "include_colab_link": true
    }
  },
  "nbformat": 4,
  "nbformat_minor": 0
}