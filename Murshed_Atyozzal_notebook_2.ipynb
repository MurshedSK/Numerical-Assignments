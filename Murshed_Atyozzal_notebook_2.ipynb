{
  "cells": [
    {
      "cell_type": "markdown",
      "metadata": {
        "id": "rm95RbVYz3Se"
      },
      "source": [
        "- Student 1 Name: Murshed SK\n",
        "- Student 2 Name: Atyozzal Konwar\n",
        "\n",
        "change the name of this notebook to  `name_1_name_2_notebook_??.ipynb` with *no spaces, no accents and no strange characters!* and where `??` stands for the number of the notebook you are working on."
      ]
    },
    {
      "cell_type": "markdown",
      "metadata": {
        "id": "q5h02qYwz3So"
      },
      "source": [
        "# PPM Numerical Methods -- Numerical Methods for Physics"
      ]
    },
    {
      "cell_type": "markdown",
      "metadata": {
        "id": "UHRuhYn0z3Sp"
      },
      "source": [
        "# Numerical methods: Root finding"
      ]
    },
    {
      "cell_type": "markdown",
      "metadata": {
        "id": "pZPUSzqQz3Sq"
      },
      "source": [
        "# Root finding"
      ]
    },
    {
      "cell_type": "markdown",
      "metadata": {
        "id": "lmuXFrC_z3Sr"
      },
      "source": [
        "## Bisection method"
      ]
    },
    {
      "cell_type": "markdown",
      "metadata": {
        "id": "w09C0fLlz3Sv"
      },
      "source": [
        "Use the bisection method to find the root of the function\n",
        "$$ f(x) = \\frac{1}{2} - e^{-x}$$\n",
        "think carefully how to estimate the error to end the calculation."
      ]
    },
    {
      "cell_type": "code",
      "execution_count": 1,
      "metadata": {
        "id": "Vcz6DF4bz3Sw"
      },
      "outputs": [],
      "source": [
        "# Import necesary libraries for this notebook:\n",
        "import numpy as np\n",
        "import matplotlib.pyplot as plt\n",
        "%matplotlib inline"
      ]
    },
    {
      "cell_type": "code",
      "execution_count": 2,
      "metadata": {
        "id": "Nm1bh0q9z3Sy"
      },
      "outputs": [],
      "source": [
        "# Define the function:\n",
        "def f(x: float) -> float:\n",
        "    func = 1/2 - np.exp(-x)\n",
        "    return func\n",
        "\n",
        "# Define the algorithm part of the Bisection method:\n",
        "def bisection(a,b,tolerance):\n",
        "    \"\"\"\n",
        "    Finds the root of a function using the bisection method.\n",
        "\n",
        "    Args:\n",
        "        a: The left endpoint of the interval.\n",
        "        b: The right endpoint of the interval.\n",
        "        tolerance: The maximum error allowed.\n",
        "\n",
        "    Returns:\n",
        "        True if a root is found within the tolerance, False otherwise.\n",
        "    \"\"\"\n",
        "    if f(a)*f(b)>0:\n",
        "        print(\"The root is not in between the interval.\")\n",
        "        return False\n",
        "    else:\n",
        "      iteration = 0 # Iteration is used to find the total number of iterations is needed to find the root.\n",
        "      while (b-a)/2 >tolerance:\n",
        "        c = (a+b)/2 # The mid point of the interval which is the new end point after iteration.\n",
        "        if f(c) == 0:\n",
        "          break # c is the root of the function.\n",
        "        elif f(a)*f(c)<0:\n",
        "          b = c # The root lies between 'a' and 'c'.\n",
        "        else:\n",
        "          a = c # The root lies between 'b' and 'c'.\n",
        "        iteration += 1\n",
        "    print(f\"The root of the given function after {iteration}th itration is:{c:.4f}\")\n",
        "    return True\n"
      ]
    },
    {
      "cell_type": "code",
      "source": [
        "# Main function to drive the program\n",
        "def main():\n",
        "    while True:\n",
        "        try:\n",
        "            a = float(input(\"Enter the lower bound of the interval (a): \"))\n",
        "            b = float(input(\"Enter the upper bound of the interval (b): \"))\n",
        "            tolerance = float(input(\"Enter the tolerance (maximum error): \"))\n",
        "        except ValueError:\n",
        "            print(\"Invalid input. Please enter correct numeric values.\")\n",
        "            print(\"Starting the process from the beginning. Enter the correct inputs this time.\")\n",
        "            print(\"\")\n",
        "            continue\n",
        "\n",
        "        # Attempt to find the root:\n",
        "        if bisection(a, b, tolerance):\n",
        "            break  # Exit the loop if a valid root is found.\n",
        "        else:\n",
        "            print(\"Please select another interval.\")\n",
        "            print(\"\")\n",
        "\n",
        "# Entry point of the program:\n",
        "if __name__ == \"__main__\":\n",
        "    main()"
      ],
      "metadata": {
        "colab": {
          "base_uri": "https://localhost:8080/"
        },
        "id": "ygbasJqE-uF7",
        "outputId": "f71fc276-073a-4153-ad67-2c59e431ed84"
      },
      "execution_count": 3,
      "outputs": [
        {
          "output_type": "stream",
          "name": "stdout",
          "text": [
            "Enter the lower bound of the interval (a): q\n",
            "Invalid input. Please enter correct numeric values.\n",
            "Starting the process from the beginning. Enter the correct inputs this time.\n",
            "\n",
            "Enter the lower bound of the interval (a): 1\n",
            "Enter the upper bound of the interval (b): 2\n",
            "Enter the tolerance (maximum error): 1e-6\n",
            "The root is not in between the interval.\n",
            "Please select another interval.\n",
            "\n",
            "Enter the lower bound of the interval (a): 0\n",
            "Enter the upper bound of the interval (b): 1\n",
            "Enter the tolerance (maximum error): 1e-6\n",
            "The root of the given function after 19th itration is:0.6931\n"
          ]
        }
      ]
    },
    {
      "cell_type": "markdown",
      "metadata": {
        "id": "Orua1V4zz3S0"
      },
      "source": [
        "## False-position method"
      ]
    },
    {
      "cell_type": "markdown",
      "metadata": {
        "id": "3Xp1i5Bmz3S1"
      },
      "source": [
        "Use the false position method to find the root of the function\n",
        "$$ f(x) = \\frac{1}{2} - e^{-x}$$\n",
        "and compare to the bisection method"
      ]
    },
    {
      "cell_type": "code",
      "source": [
        "# Define the function:\n",
        "def f(x: float) -> float:\n",
        "    func = 1/2 - np.exp(-x)\n",
        "    return func\n",
        "\n",
        "# Define the algorithm part of the False Position method:\n",
        "def falseposition(a,b,tolerance):\n",
        "    \"\"\"\n",
        "    Performs the false position method to find the root of the function f.\n",
        "\n",
        "    Args:\n",
        "        a: The left endpoint of the interval.\n",
        "        b: The right endpoint of the interval.\n",
        "        tolerance: The desired tolerance (maximum error) for the root.\n",
        "\n",
        "    Returns:\n",
        "        True if a root is found within the tolerance, False otherwise.\n",
        "    \"\"\"\n",
        "    if f(a)*f(b)>0:\n",
        "        print(\"The root is not in between the interval.\")\n",
        "        return False\n",
        "    else:\n",
        "      iteration = 0 # iteration is used to find the total number of iterations is needed to find the root.\n",
        "      while (b-a)/2 >tolerance:\n",
        "        c = b - (f(b)*(b-a))/(f(b)-f(a)) # The new position of the interval which is the new end point after iteration.\n",
        "        if f(c) == 0:\n",
        "          break # c is the root of the function.\n",
        "        elif f(a)*f(c)<0:\n",
        "          b = c # The root lies between 'a' and 'c'.\n",
        "        else:\n",
        "          a = c # The root lies between 'b' and 'c'.\n",
        "        iteration += 1\n",
        "    print(f\"The root of the given function after {iteration}th itration is:{c:.4f}\")\n",
        "    return True\n"
      ],
      "metadata": {
        "id": "bXUKy5iNEhtK"
      },
      "execution_count": 4,
      "outputs": []
    },
    {
      "cell_type": "code",
      "source": [
        "# Main function to drive the program\n",
        "def main():\n",
        "    while True:\n",
        "        try:\n",
        "            a = float(input(\"Enter the lower bound of the interval (a): \"))\n",
        "            b = float(input(\"Enter the upper bound of the interval (b): \"))\n",
        "            tolerance = float(input(\"Enter the tolerance (maximum error): \"))\n",
        "        except ValueError:\n",
        "            print(\"Invalid input. Please enter correct numeric values.\")\n",
        "            print(\"Starting the process from the beginning. Enter the correct inputs this time.\")\n",
        "            print(\"\")\n",
        "            continue\n",
        "\n",
        "        # Attempt to find the root:\n",
        "        if falseposition(a, b, tolerance):\n",
        "            break  # Exit the loop if a valid root is found.\n",
        "        else:\n",
        "            print(\"Please select another interval.\")\n",
        "            print(\"\")\n",
        "\n",
        "# Entry point of the program:\n",
        "if __name__ == \"__main__\":\n",
        "    main()\n"
      ],
      "metadata": {
        "colab": {
          "base_uri": "https://localhost:8080/"
        },
        "id": "4kzcscQKGrbk",
        "outputId": "fbdcbfad-80dc-4b32-a3ea-c45498e76896"
      },
      "execution_count": 5,
      "outputs": [
        {
          "output_type": "stream",
          "name": "stdout",
          "text": [
            "Enter the lower bound of the interval (a): 1\n",
            "Enter the upper bound of the interval (b): w\n",
            "Invalid input. Please enter correct numeric values.\n",
            "Starting the process from the beginning. Enter the correct inputs this time.\n",
            "\n",
            "Enter the lower bound of the interval (a): 1\n",
            "Enter the upper bound of the interval (b): 2\n",
            "Enter the tolerance (maximum error): 1e-6\n",
            "The root is not in between the interval.\n",
            "Please select another interval.\n",
            "\n",
            "Enter the lower bound of the interval (a): 0\n",
            "Enter the upper bound of the interval (b): 1\n",
            "Enter the tolerance (maximum error): 1e-6\n",
            "The root of the given function after 30th itration is:0.6931\n"
          ]
        }
      ]
    },
    {
      "cell_type": "markdown",
      "metadata": {
        "id": "hbthxeJKz3S3"
      },
      "source": [
        "## The Newton-Raphson Method"
      ]
    },
    {
      "cell_type": "markdown",
      "metadata": {
        "id": "q1JIzbImz3S3"
      },
      "source": [
        "Implement the Newton-Rapshon method to solve\n",
        "$$ f(x) = \\frac{1}{2} - e^{-x}$$\n",
        "and compare to the bisection and false position methods\n",
        "\n",
        "- Try different starting guess values, e.g. -1, 1, 5 and 30\n",
        "- Comment"
      ]
    },
    {
      "cell_type": "code",
      "execution_count": 6,
      "metadata": {
        "id": "5ohyQ6L5z3S4"
      },
      "outputs": [],
      "source": [
        "# Define the function:\n",
        "def f(x: float) -> float:\n",
        "    return 1/2 - np.exp(-x)\n",
        "\n",
        "# Define the derivative of the function:\n",
        "def df(x: float) -> float:\n",
        "    h = 1e-6  # The limit from the definition of Derivative.\n",
        "    return (f(x + h) - f(x)) / h  # Definition of Derivative.\n",
        "\n",
        "# Define the algorithm part of the Newton-Raphson method:\n",
        "def newton_raphson(guess: float, tolerance: float, maximum_iterations) -> float:\n",
        "    \"\"\"\n",
        "    Implements the Newton-Raphson method to find the root of a function.\n",
        "\n",
        "    Args:\n",
        "        guess: The initial guess for the root.\n",
        "        tolerance: The desired accuracy of the solution.\n",
        "\n",
        "    Returns:\n",
        "        The approximate root of the function, or None if the method fails to converge.\n",
        "    \"\"\"\n",
        "    iteration = 0  # Used to count the number of iterations.\n",
        "    while iteration < maximum_iterations:  # Limit the number of iterations to prevent infinite loops.\n",
        "        if abs(f(guess)) < tolerance:\n",
        "            print(f\"The root of the given function after {iteration} iterations is: {guess:.4f}\")\n",
        "            return guess  # Return the found root.\n",
        "\n",
        "        derivative = df(guess)\n",
        "        if derivative == 0:\n",
        "            print(\"Derivative is zero. No solution found.\")\n",
        "            return None  # Avoid division by zero.\n",
        "\n",
        "        new_guess = guess - f(guess) / derivative\n",
        "        if abs(new_guess - guess) < tolerance:\n",
        "            print(f\"The root of the given function after {iteration} iterations is: {new_guess:.4f}\")\n",
        "            return new_guess  # Return the found root.\n",
        "\n",
        "        guess = new_guess\n",
        "        iteration += 1\n",
        "\n",
        "    print(\"Newton-Raphson method failed to converge.\")\n",
        "    return None  # Return None if no root is found.\n"
      ]
    },
    {
      "cell_type": "code",
      "source": [
        "# Main function to drive the program\n",
        "def main():\n",
        "    while True:\n",
        "        try:\n",
        "            guess = float(input(\"Enter the initial guess: \"))\n",
        "            tolerance = float(input(\"Enter the tolerance (maximum error): \"))\n",
        "            maximum_iterations = int(input(\"Enter the maximum number of iterations: \"))\n",
        "        except ValueError:\n",
        "            print(\"Invalid input. Please enter correct numeric values.\")\n",
        "            print(\"Starting the process from the beginning. Enter the correct inputs this time.\")\n",
        "            print(\"\")\n",
        "            continue\n",
        "\n",
        "        # Attempt to find the root:\n",
        "        if newton_raphson(guess, tolerance, maximum_iterations) is not None:\n",
        "            break  # Exit the loop if a valid root is found.\n",
        "        else:\n",
        "            print(\"Newton-Raphson method failed to converge.\")\n",
        "            print(\"Please make another guess.\")\n",
        "            print(\"\")\n",
        "\n",
        "# Entry point of the program:\n",
        "if __name__ == \"__main__\":\n",
        "    main()\n"
      ],
      "metadata": {
        "colab": {
          "base_uri": "https://localhost:8080/"
        },
        "id": "5HKngyB7eUu8",
        "outputId": "0f7a8f92-0891-4242-b6ab-a84d6a08e5cd"
      },
      "execution_count": 7,
      "outputs": [
        {
          "name": "stdout",
          "output_type": "stream",
          "text": [
            "Enter the initial guess: 10\n",
            "Enter the tolerance (maximum error): 1e\n",
            "Invalid input. Please enter correct numeric values.\n",
            "Starting the process from the beginning. Enter the correct inputs this time.\n",
            "\n",
            "Enter the initial guess: 10\n",
            "Enter the tolerance (maximum error): 1e-6\n",
            "Enter the maximum number of iterations: 100\n"
          ]
        },
        {
          "output_type": "stream",
          "name": "stderr",
          "text": [
            "<ipython-input-6-d41ad52caa71>:3: RuntimeWarning: overflow encountered in exp\n",
            "  return 1/2 - np.exp(-x)\n",
            "<ipython-input-6-d41ad52caa71>:8: RuntimeWarning: invalid value encountered in scalar subtract\n",
            "  return (f(x + h) - f(x)) / h  # Definition of Derivative.\n"
          ]
        },
        {
          "output_type": "stream",
          "name": "stdout",
          "text": [
            "Newton-Raphson method failed to converge.\n",
            "Newton-Raphson method failed to converge.\n",
            "Please make another guess.\n",
            "\n",
            "Enter the initial guess: 10\n",
            "Enter the tolerance (maximum error): 1e-6\n",
            "Enter the maximum number of iterations: 100\n",
            "Newton-Raphson method failed to converge.\n",
            "Newton-Raphson method failed to converge.\n",
            "Please make another guess.\n",
            "\n",
            "Enter the initial guess: 0\n",
            "Enter the tolerance (maximum error): 1e-6\n",
            "Enter the maximum number of iterations: 1--\n",
            "Invalid input. Please enter correct numeric values.\n",
            "Starting the process from the beginning. Enter the correct inputs this time.\n",
            "\n",
            "Enter the initial guess: \n",
            "Invalid input. Please enter correct numeric values.\n",
            "Starting the process from the beginning. Enter the correct inputs this time.\n",
            "\n",
            "Enter the initial guess: 0\n",
            "Enter the tolerance (maximum error): 1e-6\n",
            "Enter the maximum number of iterations: 100\n",
            "The root of the given function after 4 iterations is: 0.6931\n"
          ]
        }
      ]
    },
    {
      "cell_type": "markdown",
      "metadata": {
        "id": "NAj4x7bkz3S4"
      },
      "source": [
        "\n",
        "## The Secant Method"
      ]
    },
    {
      "cell_type": "markdown",
      "metadata": {
        "id": "dz6LBxrJz3S4"
      },
      "source": [
        "Implement the Newton-Rapshon method to solve\n",
        "$$ f(x) = \\frac{1}{2} - e^{-x}$$\n",
        "and compare to the bisection and false position methods\n",
        "\n",
        "- Try different starting guess values, e.g. -1, 1, 5 and 30\n",
        "- Comment"
      ]
    },
    {
      "cell_type": "code",
      "execution_count": 7,
      "metadata": {
        "id": "67mK0aqpz3S4"
      },
      "outputs": [],
      "source": [
        "\n"
      ]
    },
    {
      "cell_type": "markdown",
      "metadata": {
        "id": "lb-OX5oIz3S5"
      },
      "source": [
        "## The Modified Secant Method"
      ]
    },
    {
      "cell_type": "markdown",
      "metadata": {
        "id": "OdMxU9oez3S5"
      },
      "source": [
        "Implement the modified secant method and compare it to the other methods."
      ]
    },
    {
      "cell_type": "code",
      "execution_count": 7,
      "metadata": {
        "id": "loLcOh01z3S6"
      },
      "outputs": [],
      "source": [
        "\n"
      ]
    }
  ],
  "metadata": {
    "kernelspec": {
      "display_name": "Python 3 (ipykernel)",
      "language": "python",
      "name": "python3"
    },
    "language_info": {
      "codemirror_mode": {
        "name": "ipython",
        "version": 3
      },
      "file_extension": ".py",
      "mimetype": "text/x-python",
      "name": "python",
      "nbconvert_exporter": "python",
      "pygments_lexer": "ipython3",
      "version": "3.12.6"
    },
    "colab": {
      "provenance": []
    }
  },
  "nbformat": 4,
  "nbformat_minor": 0
}